{
  "metadata": {
    "kernelspec": {
      "name": "python",
      "display_name": "Python (Pyodide)",
      "language": "python"
    },
    "language_info": {
      "codemirror_mode": {
        "name": "python",
        "version": 3
      },
      "file_extension": ".py",
      "mimetype": "text/x-python",
      "name": "python",
      "nbconvert_exporter": "python",
      "pygments_lexer": "ipython3",
      "version": "3.8"
    }
  },
  "nbformat_minor": 4,
  "nbformat": 4,
  "cells": [
    {
      "cell_type": "markdown",
      "source": "# Data Science and Machine Learning Project",
      "metadata": {}
    },
    {
      "cell_type": "markdown",
      "source": "## Introduction\n\nThis project is part of the Data Science and Machine Learning course. The objective is to explore a dataset, perform necessary preprocessing, apply suitable machine learning models, and evaluate their performance. Through this project, we aim to gain practical experience in handling real-world data and developing predictive models using tools and techniques learned during the course.",
      "metadata": {}
    },
    {
      "cell_type": "markdown",
      "source": "## Common Programming Languages Used in Data Science\n\n- *Python* – Widely used for data analysis, machine learning, and visualization.\n- *R* – Preferred for statistical analysis and data visualization.\n- *SQL* – Used for querying and managing databases.\n- *Java* – Sometimes used in big data and production environments.\n- *Scala* – Often used with Apache Spark for big data processing.\n- *Julia* – Known for high-performance numerical computing.\n\nThese languages play a key role in various stages of a data science project—from data collection and cleaning to modeling and deployment.",
      "metadata": {}
    },
    {
      "cell_type": "markdown",
      "source": "## Popular Data Science Libraries\n\n- *NumPy* – For numerical computations and handling arrays.\n- *Pandas* – For data manipulation and analysis using DataFrames.\n- *Matplotlib* – For basic data visualization (charts, plots).\n- *Seaborn* – For advanced data visualization and statistical graphics.\n- *Scikit-learn* – For machine learning algorithms and model evaluation.\n- *TensorFlow* – For deep learning and neural networks.\n- *Keras* – High-level API for building and training deep learning models.\n- *PyTorch* – Another deep learning framework, popular for research.\n- *Statsmodels* – For statistical modeling and testing.\n- *XGBoost* – For gradient boosting and high-performance ML models.\n-",
      "metadata": {}
    },
    {
      "cell_type": "markdown",
      "source": "## Common Data Science Tools\n\n| Tool Name       | Description                                      | Usage Area                  |\n|------------------|--------------------------------------------------|-----------------------------|\n| Jupyter Notebook | Interactive coding and documentation             | Coding & Visualization      |\n| RStudio          | IDE for R programming                            | Statistical Computing       |\n| Anaconda         | Python/R package manager and environment manager | Package & Environment Mgmt  |\n| Google Colab     | Cloud-based Jupyter notebooks                    | Cloud Coding & Collaboration|\n| Tableau          | Drag-and-drop data visualization tool            | Data Visualization          |\n| Power BI         | Microsoft’s data visualization tool              | Business Intelligence       |\n| Apache Spark     | Big data processing engine                       | Big Data & Distributed Computing |\n| GitHub           | Code hosting and version control                 | Collaboration & Deployment  |",
      "metadata": {}
    },
    {
      "cell_type": "markdown",
      "source": "## Arithmetic Expression Examples\n\nIn Data Science, arithmetic expressions are commonly used for data calculations, feature engineering, and analysis. These expressions include basic mathematical operations such as addition, subtraction, multiplication, division, and exponentiation.\n\nHere are a few examples of arithmetic expressions:\n\n- a + b &nbsp;&nbsp;&nbsp;&nbsp;&nbsp;&nbsp;&nbsp;&nbsp;&nbsp;→ Addition  \n- a - b &nbsp;&nbsp;&nbsp;&nbsp;&nbsp;&nbsp;&nbsp;&nbsp;&nbsp;→ Subtraction  \n- a * b &nbsp;&nbsp;&nbsp;&nbsp;&nbsp;&nbsp;&nbsp;&nbsp;&nbsp;→ Multiplication  \n- a / b &nbsp;&nbsp;&nbsp;&nbsp;&nbsp;&nbsp;&nbsp;&nbsp;&nbsp;→ Division  \n- a ** b &nbsp;&nbsp;&nbsp;&nbsp;&nbsp;&nbsp;&nbsp;&nbsp;&nbsp;→ Exponentiation (Power)\n",
      "metadata": {}
    },
    {
      "cell_type": "code",
      "source": "# Define numbers\na = 5\nb = 10\n\n# Multiply\nproduct = a * b\n\n# Add\nsum_result = a + b\n\n# Print results\nprint(\"Product of\", a, \"and\", b, \"is:\", product)\nprint(\"Sum of\", a, \"and\", b, \"is:\", sum_result)",
      "metadata": {
        "trusted": true
      },
      "outputs": [
        {
          "name": "stdout",
          "text": "Product of 5 and 10 is: 50\nSum of 5 and 10 is: 15\n",
          "output_type": "stream"
        }
      ],
      "execution_count": 1
    },
    {
      "cell_type": "code",
      "source": "# Convert minutes to hours\n\nminutes = 150  # example input\n\nhours = minutes / 60  # conversion\n\nprint(f\"{minutes} minutes is equal to {hours} hours.\")",
      "metadata": {
        "trusted": true
      },
      "outputs": [
        {
          "name": "stdout",
          "text": "150 minutes is equal to 2.5 hours.\n",
          "output_type": "stream"
        }
      ],
      "execution_count": 2
    },
    {
      "cell_type": "markdown",
      "source": "### 📌 Objectives\n\n- Understand the basics of Data Science and Machine Learning  \n- Learn how to clean and preprocess data  \n- Explore data visualization techniques  \n- Implement machine learning algorithms  \n- Evaluate and improve model performance  \n",
      "metadata": {}
    },
    {
      "cell_type": "markdown",
      "source": "**Author :** RAJAN RATHOR",
      "metadata": {}
    },
    {
      "cell_type": "code",
      "source": "",
      "metadata": {
        "trusted": true
      },
      "outputs": [],
      "execution_count": null
    }
  ]
}